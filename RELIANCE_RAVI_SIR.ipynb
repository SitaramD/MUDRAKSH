{
  "nbformat": 4,
  "nbformat_minor": 0,
  "metadata": {
    "colab": {
      "name": "RELIANCE RAVI SIR.ipynb",
      "provenance": [],
      "collapsed_sections": []
    },
    "kernelspec": {
      "name": "python3",
      "display_name": "Python 3"
    },
    "language_info": {
      "name": "python"
    }
  },
  "cells": [
    {
      "cell_type": "code",
      "metadata": {
        "id": "3oE3tTCHJF0H"
      },
      "source": [
        "# To pull ohlc for Reliance Daily data"
      ],
      "execution_count": null,
      "outputs": []
    },
    {
      "cell_type": "code",
      "metadata": {
        "colab": {
          "base_uri": "https://localhost:8080/"
        },
        "id": "PCRGE2tIJGYT",
        "outputId": "270f83a4-dc9c-4285-845f-542418eda261"
      },
      "source": [
        "# LOAD LIBRARIES\n",
        "!pip install numpy\n",
        "!pip install pandas\n",
        "!pip install yfinance"
      ],
      "execution_count": 8,
      "outputs": [
        {
          "output_type": "stream",
          "name": "stdout",
          "text": [
            "Requirement already satisfied: numpy in /usr/local/lib/python3.7/dist-packages (1.19.5)\n",
            "Requirement already satisfied: pandas in /usr/local/lib/python3.7/dist-packages (1.1.5)\n",
            "Requirement already satisfied: python-dateutil>=2.7.3 in /usr/local/lib/python3.7/dist-packages (from pandas) (2.8.2)\n",
            "Requirement already satisfied: pytz>=2017.2 in /usr/local/lib/python3.7/dist-packages (from pandas) (2018.9)\n",
            "Requirement already satisfied: numpy>=1.15.4 in /usr/local/lib/python3.7/dist-packages (from pandas) (1.19.5)\n",
            "Requirement already satisfied: six>=1.5 in /usr/local/lib/python3.7/dist-packages (from python-dateutil>=2.7.3->pandas) (1.15.0)\n",
            "Requirement already satisfied: yfinance in /usr/local/lib/python3.7/dist-packages (0.1.63)\n",
            "Requirement already satisfied: lxml>=4.5.1 in /usr/local/lib/python3.7/dist-packages (from yfinance) (4.6.3)\n",
            "Requirement already satisfied: requests>=2.20 in /usr/local/lib/python3.7/dist-packages (from yfinance) (2.23.0)\n",
            "Requirement already satisfied: numpy>=1.15 in /usr/local/lib/python3.7/dist-packages (from yfinance) (1.19.5)\n",
            "Requirement already satisfied: pandas>=0.24 in /usr/local/lib/python3.7/dist-packages (from yfinance) (1.1.5)\n",
            "Requirement already satisfied: multitasking>=0.0.7 in /usr/local/lib/python3.7/dist-packages (from yfinance) (0.0.9)\n",
            "Requirement already satisfied: python-dateutil>=2.7.3 in /usr/local/lib/python3.7/dist-packages (from pandas>=0.24->yfinance) (2.8.2)\n",
            "Requirement already satisfied: pytz>=2017.2 in /usr/local/lib/python3.7/dist-packages (from pandas>=0.24->yfinance) (2018.9)\n",
            "Requirement already satisfied: six>=1.5 in /usr/local/lib/python3.7/dist-packages (from python-dateutil>=2.7.3->pandas>=0.24->yfinance) (1.15.0)\n",
            "Requirement already satisfied: certifi>=2017.4.17 in /usr/local/lib/python3.7/dist-packages (from requests>=2.20->yfinance) (2021.5.30)\n",
            "Requirement already satisfied: chardet<4,>=3.0.2 in /usr/local/lib/python3.7/dist-packages (from requests>=2.20->yfinance) (3.0.4)\n",
            "Requirement already satisfied: idna<3,>=2.5 in /usr/local/lib/python3.7/dist-packages (from requests>=2.20->yfinance) (2.10)\n",
            "Requirement already satisfied: urllib3!=1.25.0,!=1.25.1,<1.26,>=1.21.1 in /usr/local/lib/python3.7/dist-packages (from requests>=2.20->yfinance) (1.24.3)\n"
          ]
        }
      ]
    },
    {
      "cell_type": "code",
      "metadata": {
        "id": "8jqSx-nZJGcC"
      },
      "source": [
        "# IMPORT LIBRARIES\n",
        "import pandas as pd\n",
        "import numpy as np\n",
        "import yfinance as yf\n"
      ],
      "execution_count": 7,
      "outputs": []
    },
    {
      "cell_type": "code",
      "metadata": {
        "colab": {
          "base_uri": "https://localhost:8080/"
        },
        "id": "B2cyhir4JGfq",
        "outputId": "afbc381f-ee84-40c8-c05c-9c9e392ea0e1"
      },
      "source": [
        "df= yf.download(\"RELIANCE.NS\", start='2019-09-23', ens = '2021-09-23', interval='1d')"
      ],
      "execution_count": 11,
      "outputs": [
        {
          "output_type": "stream",
          "name": "stdout",
          "text": [
            "\r[*********************100%***********************]  1 of 1 completed\n"
          ]
        }
      ]
    },
    {
      "cell_type": "code",
      "metadata": {
        "colab": {
          "base_uri": "https://localhost:8080/",
          "height": 450
        },
        "id": "1dIS6iFkJGiW",
        "outputId": "980ef104-74a4-4d63-b1fd-545086561be5"
      },
      "source": [
        "df"
      ],
      "execution_count": 12,
      "outputs": [
        {
          "output_type": "execute_result",
          "data": {
            "text/html": [
              "<div>\n",
              "<style scoped>\n",
              "    .dataframe tbody tr th:only-of-type {\n",
              "        vertical-align: middle;\n",
              "    }\n",
              "\n",
              "    .dataframe tbody tr th {\n",
              "        vertical-align: top;\n",
              "    }\n",
              "\n",
              "    .dataframe thead th {\n",
              "        text-align: right;\n",
              "    }\n",
              "</style>\n",
              "<table border=\"1\" class=\"dataframe\">\n",
              "  <thead>\n",
              "    <tr style=\"text-align: right;\">\n",
              "      <th></th>\n",
              "      <th>Open</th>\n",
              "      <th>High</th>\n",
              "      <th>Low</th>\n",
              "      <th>Close</th>\n",
              "      <th>Adj Close</th>\n",
              "      <th>Volume</th>\n",
              "    </tr>\n",
              "    <tr>\n",
              "      <th>Date</th>\n",
              "      <th></th>\n",
              "      <th></th>\n",
              "      <th></th>\n",
              "      <th></th>\n",
              "      <th></th>\n",
              "      <th></th>\n",
              "    </tr>\n",
              "  </thead>\n",
              "  <tbody>\n",
              "    <tr>\n",
              "      <th>2019-09-23</th>\n",
              "      <td>1262.185791</td>\n",
              "      <td>1268.971436</td>\n",
              "      <td>1223.403320</td>\n",
              "      <td>1227.563965</td>\n",
              "      <td>1219.050293</td>\n",
              "      <td>9973401</td>\n",
              "    </tr>\n",
              "    <tr>\n",
              "      <th>2019-09-24</th>\n",
              "      <td>1231.922607</td>\n",
              "      <td>1286.604248</td>\n",
              "      <td>1231.080566</td>\n",
              "      <td>1266.692993</td>\n",
              "      <td>1257.907959</td>\n",
              "      <td>16133561</td>\n",
              "    </tr>\n",
              "    <tr>\n",
              "      <th>2019-09-25</th>\n",
              "      <td>1271.943237</td>\n",
              "      <td>1282.839966</td>\n",
              "      <td>1256.935547</td>\n",
              "      <td>1267.535034</td>\n",
              "      <td>1258.744141</td>\n",
              "      <td>8395729</td>\n",
              "    </tr>\n",
              "    <tr>\n",
              "      <th>2019-09-26</th>\n",
              "      <td>1279.868164</td>\n",
              "      <td>1286.604248</td>\n",
              "      <td>1271.447998</td>\n",
              "      <td>1284.623047</td>\n",
              "      <td>1275.713623</td>\n",
              "      <td>8468733</td>\n",
              "    </tr>\n",
              "    <tr>\n",
              "      <th>2019-09-27</th>\n",
              "      <td>1280.363403</td>\n",
              "      <td>1302.652100</td>\n",
              "      <td>1271.943237</td>\n",
              "      <td>1296.758057</td>\n",
              "      <td>1287.764404</td>\n",
              "      <td>8795570</td>\n",
              "    </tr>\n",
              "    <tr>\n",
              "      <th>...</th>\n",
              "      <td>...</td>\n",
              "      <td>...</td>\n",
              "      <td>...</td>\n",
              "      <td>...</td>\n",
              "      <td>...</td>\n",
              "      <td>...</td>\n",
              "    </tr>\n",
              "    <tr>\n",
              "      <th>2021-09-17</th>\n",
              "      <td>2446.000000</td>\n",
              "      <td>2455.850098</td>\n",
              "      <td>2375.600098</td>\n",
              "      <td>2390.550049</td>\n",
              "      <td>2390.550049</td>\n",
              "      <td>16098099</td>\n",
              "    </tr>\n",
              "    <tr>\n",
              "      <th>2021-09-20</th>\n",
              "      <td>2372.100098</td>\n",
              "      <td>2418.350098</td>\n",
              "      <td>2370.000000</td>\n",
              "      <td>2394.350098</td>\n",
              "      <td>2394.350098</td>\n",
              "      <td>5436385</td>\n",
              "    </tr>\n",
              "    <tr>\n",
              "      <th>2021-09-21</th>\n",
              "      <td>2405.000000</td>\n",
              "      <td>2416.600098</td>\n",
              "      <td>2384.000000</td>\n",
              "      <td>2404.699951</td>\n",
              "      <td>2404.699951</td>\n",
              "      <td>4576111</td>\n",
              "    </tr>\n",
              "    <tr>\n",
              "      <th>2021-09-22</th>\n",
              "      <td>2408.000000</td>\n",
              "      <td>2442.000000</td>\n",
              "      <td>2398.250000</td>\n",
              "      <td>2430.500000</td>\n",
              "      <td>2430.500000</td>\n",
              "      <td>5074612</td>\n",
              "    </tr>\n",
              "    <tr>\n",
              "      <th>2021-09-23</th>\n",
              "      <td>2447.399902</td>\n",
              "      <td>2497.000000</td>\n",
              "      <td>2445.500000</td>\n",
              "      <td>2489.899902</td>\n",
              "      <td>2489.899902</td>\n",
              "      <td>7265242</td>\n",
              "    </tr>\n",
              "  </tbody>\n",
              "</table>\n",
              "<p>496 rows × 6 columns</p>\n",
              "</div>"
            ],
            "text/plain": [
              "                   Open         High  ...    Adj Close    Volume\n",
              "Date                                  ...                       \n",
              "2019-09-23  1262.185791  1268.971436  ...  1219.050293   9973401\n",
              "2019-09-24  1231.922607  1286.604248  ...  1257.907959  16133561\n",
              "2019-09-25  1271.943237  1282.839966  ...  1258.744141   8395729\n",
              "2019-09-26  1279.868164  1286.604248  ...  1275.713623   8468733\n",
              "2019-09-27  1280.363403  1302.652100  ...  1287.764404   8795570\n",
              "...                 ...          ...  ...          ...       ...\n",
              "2021-09-17  2446.000000  2455.850098  ...  2390.550049  16098099\n",
              "2021-09-20  2372.100098  2418.350098  ...  2394.350098   5436385\n",
              "2021-09-21  2405.000000  2416.600098  ...  2404.699951   4576111\n",
              "2021-09-22  2408.000000  2442.000000  ...  2430.500000   5074612\n",
              "2021-09-23  2447.399902  2497.000000  ...  2489.899902   7265242\n",
              "\n",
              "[496 rows x 6 columns]"
            ]
          },
          "metadata": {},
          "execution_count": 12
        }
      ]
    },
    {
      "cell_type": "code",
      "metadata": {
        "colab": {
          "base_uri": "https://localhost:8080/",
          "height": 297
        },
        "id": "LmYKy-unKoZw",
        "outputId": "c5b7b122-c254-4f4f-9a43-197dd77b566b"
      },
      "source": [
        "# Mean, Median, Mode of ohlc data\n",
        "df.describe()"
      ],
      "execution_count": 13,
      "outputs": [
        {
          "output_type": "execute_result",
          "data": {
            "text/html": [
              "<div>\n",
              "<style scoped>\n",
              "    .dataframe tbody tr th:only-of-type {\n",
              "        vertical-align: middle;\n",
              "    }\n",
              "\n",
              "    .dataframe tbody tr th {\n",
              "        vertical-align: top;\n",
              "    }\n",
              "\n",
              "    .dataframe thead th {\n",
              "        text-align: right;\n",
              "    }\n",
              "</style>\n",
              "<table border=\"1\" class=\"dataframe\">\n",
              "  <thead>\n",
              "    <tr style=\"text-align: right;\">\n",
              "      <th></th>\n",
              "      <th>Open</th>\n",
              "      <th>High</th>\n",
              "      <th>Low</th>\n",
              "      <th>Close</th>\n",
              "      <th>Adj Close</th>\n",
              "      <th>Volume</th>\n",
              "    </tr>\n",
              "  </thead>\n",
              "  <tbody>\n",
              "    <tr>\n",
              "      <th>count</th>\n",
              "      <td>496.000000</td>\n",
              "      <td>496.000000</td>\n",
              "      <td>496.000000</td>\n",
              "      <td>496.000000</td>\n",
              "      <td>496.000000</td>\n",
              "      <td>4.960000e+02</td>\n",
              "    </tr>\n",
              "    <tr>\n",
              "      <th>mean</th>\n",
              "      <td>1829.756917</td>\n",
              "      <td>1852.521351</td>\n",
              "      <td>1805.134853</td>\n",
              "      <td>1827.517161</td>\n",
              "      <td>1820.659997</td>\n",
              "      <td>1.347879e+07</td>\n",
              "    </tr>\n",
              "    <tr>\n",
              "      <th>std</th>\n",
              "      <td>354.458512</td>\n",
              "      <td>354.268580</td>\n",
              "      <td>352.827670</td>\n",
              "      <td>353.219233</td>\n",
              "      <td>355.389671</td>\n",
              "      <td>9.488811e+06</td>\n",
              "    </tr>\n",
              "    <tr>\n",
              "      <th>min</th>\n",
              "      <td>907.596863</td>\n",
              "      <td>941.079529</td>\n",
              "      <td>867.427673</td>\n",
              "      <td>875.748779</td>\n",
              "      <td>869.675110</td>\n",
              "      <td>3.099956e+06</td>\n",
              "    </tr>\n",
              "    <tr>\n",
              "      <th>25%</th>\n",
              "      <td>1513.850220</td>\n",
              "      <td>1527.396790</td>\n",
              "      <td>1497.601776</td>\n",
              "      <td>1510.098297</td>\n",
              "      <td>1499.625122</td>\n",
              "      <td>6.992831e+06</td>\n",
              "    </tr>\n",
              "    <tr>\n",
              "      <th>50%</th>\n",
              "      <td>1956.724976</td>\n",
              "      <td>1974.474976</td>\n",
              "      <td>1930.225037</td>\n",
              "      <td>1954.950012</td>\n",
              "      <td>1948.681274</td>\n",
              "      <td>1.042536e+07</td>\n",
              "    </tr>\n",
              "    <tr>\n",
              "      <th>75%</th>\n",
              "      <td>2102.750000</td>\n",
              "      <td>2124.500000</td>\n",
              "      <td>2081.025024</td>\n",
              "      <td>2100.875061</td>\n",
              "      <td>2099.024170</td>\n",
              "      <td>1.634412e+07</td>\n",
              "    </tr>\n",
              "    <tr>\n",
              "      <th>max</th>\n",
              "      <td>2452.000000</td>\n",
              "      <td>2497.000000</td>\n",
              "      <td>2445.500000</td>\n",
              "      <td>2489.899902</td>\n",
              "      <td>2489.899902</td>\n",
              "      <td>6.584835e+07</td>\n",
              "    </tr>\n",
              "  </tbody>\n",
              "</table>\n",
              "</div>"
            ],
            "text/plain": [
              "              Open         High  ...    Adj Close        Volume\n",
              "count   496.000000   496.000000  ...   496.000000  4.960000e+02\n",
              "mean   1829.756917  1852.521351  ...  1820.659997  1.347879e+07\n",
              "std     354.458512   354.268580  ...   355.389671  9.488811e+06\n",
              "min     907.596863   941.079529  ...   869.675110  3.099956e+06\n",
              "25%    1513.850220  1527.396790  ...  1499.625122  6.992831e+06\n",
              "50%    1956.724976  1974.474976  ...  1948.681274  1.042536e+07\n",
              "75%    2102.750000  2124.500000  ...  2099.024170  1.634412e+07\n",
              "max    2452.000000  2497.000000  ...  2489.899902  6.584835e+07\n",
              "\n",
              "[8 rows x 6 columns]"
            ]
          },
          "metadata": {},
          "execution_count": 13
        }
      ]
    },
    {
      "cell_type": "code",
      "metadata": {
        "id": "KnX1DVCfKouw"
      },
      "source": [
        ""
      ],
      "execution_count": null,
      "outputs": []
    }
  ]
}